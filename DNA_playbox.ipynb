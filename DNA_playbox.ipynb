{
  "metadata": {
    "kernelspec": {
      "language": "python",
      "display_name": "Python 3",
      "name": "python3"
    },
    "language_info": {
      "name": "python",
      "version": "3.10.13",
      "mimetype": "text/x-python",
      "codemirror_mode": {
        "name": "ipython",
        "version": 3
      },
      "pygments_lexer": "ipython3",
      "nbconvert_exporter": "python",
      "file_extension": ".py"
    },
    "kaggle": {
      "accelerator": "none",
      "dataSources": [],
      "dockerImageVersionId": 30646,
      "isInternetEnabled": true,
      "language": "python",
      "sourceType": "notebook",
      "isGpuEnabled": false
    },
    "colab": {
      "name": "DNA playbox",
      "provenance": [],
      "include_colab_link": true
    }
  },
  "nbformat_minor": 0,
  "nbformat": 4,
  "cells": [
    {
      "cell_type": "markdown",
      "metadata": {
        "id": "view-in-github",
        "colab_type": "text"
      },
      "source": [
        "<a href=\"https://colab.research.google.com/github/NerdVerse2024/DNA-Playbox/blob/main/DNA_playbox.ipynb\" target=\"_parent\"><img src=\"https://colab.research.google.com/assets/colab-badge.svg\" alt=\"Open In Colab\"/></a>"
      ]
    },
    {
      "cell_type": "code",
      "source": [
        "# This Python 3 environment comes with many helpful analytics libraries installed\n",
        "# It is defined by the kaggle/python Docker image: https://github.com/kaggle/docker-python\n",
        "# For example, here's several helpful packages to load\n",
        "\n",
        "import numpy as np # linear algebra\n",
        "import pandas as pd # data processing, CSV file I/O (e.g. pd.read_csv)\n",
        "\n",
        "# Input data files are available in the read-only \"../input/\" directory\n",
        "# For example, running this (by clicking run or pressing Shift+Enter) will list all files under the input directory\n",
        "\n",
        "import os\n",
        "for dirname, _, filenames in os.walk('/kaggle/input'):\n",
        "    for filename in filenames:\n",
        "        print(os.path.join(dirname, filename))\n",
        "\n",
        "# You can write up to 20GB to the current directory (/kaggle/working/) that gets preserved as output when you create a version using \"Save & Run All\"\n",
        "# You can also write temporary files to /kaggle/temp/, but they won't be saved outside of the current session"
      ],
      "metadata": {
        "_uuid": "8f2839f25d086af736a60e9eeb907d3b93b6e0e5",
        "_cell_guid": "b1076dfc-b9ad-4769-8c92-a6c4dae69d19",
        "execution": {
          "iopub.status.busy": "2024-03-13T09:06:42.896015Z",
          "iopub.execute_input": "2024-03-13T09:06:42.896328Z",
          "iopub.status.idle": "2024-03-13T09:06:44.128952Z",
          "shell.execute_reply.started": "2024-03-13T09:06:42.896301Z",
          "shell.execute_reply": "2024-03-13T09:06:44.127508Z"
        },
        "trusted": true,
        "id": "jJh68xa9NhsS"
      },
      "execution_count": null,
      "outputs": []
    },
    {
      "cell_type": "markdown",
      "source": [
        "> **Introduction**\n",
        "\n",
        "In molecular biology, nucleotides are the basic building blocks of DNA. Each nucleotide consists of a nitrogenous base, a sugar molecule, and a phosphate group. The four types of nitrogenous bases found in DNA are adenine (A), cytosine (C), guanine (G), and thymine (T).\n",
        "\n",
        "In our DNA toolkit, we define a `Nucleotides` list representing these four bases:"
      ],
      "metadata": {
        "id": "V7JJ7JnDNhsX"
      }
    },
    {
      "cell_type": "code",
      "source": [
        "#DNA toolkit day 1\n",
        "Nucleotides = [\"A\", \"C\", \"G\", \"T\"]\n"
      ],
      "metadata": {
        "execution": {
          "iopub.status.busy": "2024-03-13T09:06:44.130828Z",
          "iopub.execute_input": "2024-03-13T09:06:44.131282Z",
          "iopub.status.idle": "2024-03-13T09:06:44.136953Z",
          "shell.execute_reply.started": "2024-03-13T09:06:44.131252Z",
          "shell.execute_reply": "2024-03-13T09:06:44.135442Z"
        },
        "trusted": true,
        "id": "xbARXqxnNhsd"
      },
      "execution_count": null,
      "outputs": []
    },
    {
      "cell_type": "markdown",
      "source": [
        ">Executing color codes to nucleotide bases\n",
        "\n",
        "Let's add color codes to the sequences"
      ],
      "metadata": {
        "id": "da-szSQnNhse"
      }
    },
    {
      "cell_type": "code",
      "source": [
        "# Adding color codes to sequences\n",
        "def colored(seq):\n",
        "    basecolors = {\n",
        "        'A': '\\033[92m',  # green\n",
        "        'C': '\\033[94m',  # blue\n",
        "        'G': '\\033[93m',  # yellow\n",
        "        'T': '\\033[91m',  # red\n",
        "        'U': '\\033[91m',  # red for RNA\n",
        "        'reset': '\\033[0m' # reset to default color\n",
        "    }\n",
        "    colored_seq = \"\"\n",
        "    for nuc in seq:\n",
        "        if nuc in basecolors:\n",
        "            colored_seq += basecolors[nuc] + nuc\n",
        "        else:\n",
        "            colored_seq += basecolors['reset'] + nuc\n",
        "    return colored_seq\n",
        "dna_string = \"CGGGGTGACCCTTGTAGCGGACCCCGACGCGGCGGCAACCCCCCGCTTCTGCCTCTGGGGGAGGAAAGCGTCGGC\"\n",
        "print(colored(dna_string))"
      ],
      "metadata": {
        "execution": {
          "iopub.status.busy": "2024-03-13T09:06:44.138588Z",
          "iopub.execute_input": "2024-03-13T09:06:44.139025Z",
          "iopub.status.idle": "2024-03-13T09:06:44.149517Z",
          "shell.execute_reply.started": "2024-03-13T09:06:44.138995Z",
          "shell.execute_reply": "2024-03-13T09:06:44.148555Z"
        },
        "trusted": true,
        "id": "lqz_FYF5Nhsg"
      },
      "execution_count": null,
      "outputs": []
    },
    {
      "cell_type": "markdown",
      "source": [
        "> **DNA seq Validation**\n",
        "\n",
        "We've implemented a function called `validatesequence` to validate the integrity of DNA sequences. The function takes a DNA sequence as input and ensures that it contains only valid nucleotides (A, C, G, T). The validation is case-insensitive, as the sequence is converted to uppercase before processing.\n",
        "\n",
        "### Function: `validatesequence(dna_seq: str) -> bool`\n",
        "\n",
        "This function returns `tmpseq (the desired dna sequence)' if the input DNA sequence is valid and contains only nucleotides from the predefined `Nucleotides` list. Otherwise, it returns `False`.\n",
        "\n",
        "#### Parameters:\n",
        "- `dna_seq` (str): The input DNA sequence to be validated.\n"
      ],
      "metadata": {
        "id": "i11zdHpZNhsj"
      }
    },
    {
      "cell_type": "code",
      "source": [
        "def validatesequence(dna_seq):\n",
        "    tmpseq = dna_seq.upper()\n",
        "    for nuc_base in tmpseq:\n",
        "        if nuc_base not in Nucleotides:\n",
        "            return False\n",
        "        return tmpseq\n",
        ""
      ],
      "metadata": {
        "execution": {
          "iopub.status.busy": "2024-03-13T09:06:44.152697Z",
          "iopub.execute_input": "2024-03-13T09:06:44.153037Z",
          "iopub.status.idle": "2024-03-13T09:06:44.160603Z",
          "shell.execute_reply.started": "2024-03-13T09:06:44.153009Z",
          "shell.execute_reply": "2024-03-13T09:06:44.159017Z"
        },
        "trusted": true,
        "id": "j7C9JVBjNhsj"
      },
      "execution_count": null,
      "outputs": []
    },
    {
      "cell_type": "markdown",
      "source": [
        "> **Testing**\n",
        "\n",
        "The validatesequence function is applied to the DNA sequence \"ATTGGCCTA\". Let's break down the process:\n",
        "\n",
        "The DNA sequence is converted to uppercase (\"attggccta\" → \"ATTGGCCTA\").\n",
        "The function iterates through each nucleotide in the sequence.\n",
        "If any character is not found in the predefined Nucleotides list ([\"A\", \"C\", \"G\", \"T\"]), the function returns False.\n",
        "If the iteration completes without finding invalid nucleotides, the function returns True, indicating that the sequence is valid.\n",
        "In this specific example, the output is True, indicating that \"ATTGGCCTA\" is a valid DNA sequence."
      ],
      "metadata": {
        "id": "PBLozdwENhsl"
      }
    },
    {
      "cell_type": "code",
      "source": [
        "\n",
        "## Validating a New DNA Sequence\n",
        "newDNA_string = \"ATTGGCCTA\"\n",
        "print(colored(validatesequence(newDNA_string)))"
      ],
      "metadata": {
        "execution": {
          "iopub.status.busy": "2024-03-13T09:06:44.161726Z",
          "iopub.execute_input": "2024-03-13T09:06:44.162035Z",
          "iopub.status.idle": "2024-03-13T09:06:44.175777Z",
          "shell.execute_reply.started": "2024-03-13T09:06:44.162009Z",
          "shell.execute_reply": "2024-03-13T09:06:44.174843Z"
        },
        "trusted": true,
        "id": "Qk2QXYFsNhsm"
      },
      "execution_count": null,
      "outputs": []
    },
    {
      "cell_type": "markdown",
      "source": [
        "The validatesequence function, as defined in the previous code snippets, converts the input sequence to uppercase and checks if each character is present in the Nucleotides list ([\"A\", \"C\", \"G\", \"T\"]). If any character is not found in this list, the function returns False."
      ],
      "metadata": {
        "id": "QRmJMUZkNhsn"
      }
    },
    {
      "cell_type": "code",
      "source": [
        "## testing with a different sequence\n",
        "testDNA_string = \"MLBRDQ\"\n",
        "print(validatesequence(testDNA_string))"
      ],
      "metadata": {
        "execution": {
          "iopub.status.busy": "2024-03-13T09:06:44.176805Z",
          "iopub.execute_input": "2024-03-13T09:06:44.177126Z",
          "iopub.status.idle": "2024-03-13T09:06:44.189739Z",
          "shell.execute_reply.started": "2024-03-13T09:06:44.177099Z",
          "shell.execute_reply": "2024-03-13T09:06:44.188532Z"
        },
        "trusted": true,
        "id": "HZp6P1cXNhso"
      },
      "execution_count": null,
      "outputs": []
    },
    {
      "cell_type": "markdown",
      "source": [
        "We use the **random module** to generate a random DNA sequence of length 16. The **random.choice(Nucleotides)** expression is used to randomly select a nucleotide from the predefined Nucleotides list (**[\"A\", \"C\", \"G\", \"T\"]**), and this process is repeated 16 times to form the random sequence.\n"
      ],
      "metadata": {
        "id": "2YF34Q2vNhsp"
      }
    },
    {
      "cell_type": "code",
      "source": [
        "import random\n",
        "random_dna_string = ''.join([random.choice(Nucleotides)\n",
        "                            for nuc in range(16)])\n",
        "print(colored(validatesequence(random_dna_string)))\n",
        ""
      ],
      "metadata": {
        "execution": {
          "iopub.status.busy": "2024-03-13T09:06:44.190997Z",
          "iopub.execute_input": "2024-03-13T09:06:44.19161Z",
          "iopub.status.idle": "2024-03-13T09:06:44.208497Z",
          "shell.execute_reply.started": "2024-03-13T09:06:44.191557Z",
          "shell.execute_reply": "2024-03-13T09:06:44.205778Z"
        },
        "trusted": true,
        "id": "IMQMFS2-Nhst"
      },
      "execution_count": null,
      "outputs": []
    },
    {
      "cell_type": "code",
      "source": [
        "import random\n",
        "random_dna_string = ''.join([random.choice(Nucleotides)\n",
        "                            for nuc in range(16)])\n",
        "print(colored(validatesequence(random_dna_string)))"
      ],
      "metadata": {
        "execution": {
          "iopub.status.busy": "2024-03-13T09:06:44.209708Z",
          "iopub.execute_input": "2024-03-13T09:06:44.210002Z",
          "iopub.status.idle": "2024-03-13T09:06:44.221605Z",
          "shell.execute_reply.started": "2024-03-13T09:06:44.209977Z",
          "shell.execute_reply": "2024-03-13T09:06:44.219988Z"
        },
        "trusted": true,
        "id": "Dq_crFyUNhsu"
      },
      "execution_count": null,
      "outputs": []
    },
    {
      "cell_type": "markdown",
      "source": [
        "> **DNA sequence Counting**\n",
        "\n",
        "The **countfrequencyNuc** function initializes a dictionary **tempdictionary_Freq** to store the count of each nucleotide.\n",
        "It iterates through each nucleotide in the given DNA sequence (seq) and increments the corresponding count in the dictionary."
      ],
      "metadata": {
        "id": "c6ReXhhmNhsx"
      }
    },
    {
      "cell_type": "code",
      "source": [
        "import random\n",
        "\n",
        "def countfrequencyNuc(seq):\n",
        "    tempdictionary_Freq = {\"A\": 0, \"C\": 0, \"G\": 0, \"T\": 0}\n",
        "    for Nuc in seq:\n",
        "        tempdictionary_Freq[Nuc] += 1\n",
        "    return tempdictionary_Freq\n",
        "\n",
        "# Generating a random DNA string for testing\n",
        "random_dna_string = ''.join(random.choice(\"ACGT\") for _ in range(26))\n",
        "\n",
        "# Calling the function with the generated DNA string\n",
        "resulting_dna_frequency = countfrequencyNuc(random_dna_string)\n",
        "\n",
        "# Printing the result\n",
        "print(colored(resulting_dna_frequency))"
      ],
      "metadata": {
        "execution": {
          "iopub.status.busy": "2024-03-13T09:06:44.222738Z",
          "iopub.execute_input": "2024-03-13T09:06:44.223116Z",
          "iopub.status.idle": "2024-03-13T09:06:44.233533Z",
          "shell.execute_reply.started": "2024-03-13T09:06:44.223085Z",
          "shell.execute_reply": "2024-03-13T09:06:44.232162Z"
        },
        "trusted": true,
        "id": "_srOPJmANhsz"
      },
      "execution_count": null,
      "outputs": []
    },
    {
      "cell_type": "markdown",
      "source": [
        "> **DNA-RNA Transcription**\n",
        "\n",
        "This Python code defines a function called transcription that performs transcription on a DNA sequence, converting it into an RNA sequence. The DNA sequence is represented as a list of **nucleotides** (adenine '**A**', cytosine '**C**', guanine '**G**', and thymine '**T**') stored in the variable **Nuc_seq**. The function takes a DNA sequence as input, and it replaces each 'T' (thymine) with 'U' (uracil) to create the corresponding RNA sequence.\n"
      ],
      "metadata": {
        "id": "0xmMHwIbNhs0"
      }
    },
    {
      "cell_type": "code",
      "source": [
        "Nuc_seq = ['A', 'C', 'G', 'T']\n",
        "# transcription of dna sequence to rna sequence with code\n",
        "def transcription(sequence):\n",
        "    return sequence.replace('T', 'U')"
      ],
      "metadata": {
        "execution": {
          "iopub.status.busy": "2024-03-13T09:06:44.238593Z",
          "iopub.execute_input": "2024-03-13T09:06:44.23891Z",
          "iopub.status.idle": "2024-03-13T09:06:44.246689Z",
          "shell.execute_reply.started": "2024-03-13T09:06:44.238888Z",
          "shell.execute_reply": "2024-03-13T09:06:44.24536Z"
        },
        "trusted": true,
        "id": "j-SrsthoNhs1"
      },
      "execution_count": null,
      "outputs": []
    },
    {
      "cell_type": "markdown",
      "source": [
        "It transcribes the DNA sequence \"**ACCTAAAGCATAAACGTCGAGCAGT**\" into an RNA sequence using the transcription function, and then it prints both the resulting RNA sequence and its length. This code will output the transcribed RNA sequence and its length. The transcription function replaces each '**T**' with '**U**' in the DNA sequence, mimicking the process of transcription in biology."
      ],
      "metadata": {
        "id": "1K86bTFTNhs1"
      }
    },
    {
      "cell_type": "code",
      "source": [
        "dna_string = \"ACCTAAAGCATAAACGTCGAGCAGT\"\n",
        "string_rna = transcription(dna_string)\n",
        "print(colored(string_rna))\n",
        "print(len(string_rna))"
      ],
      "metadata": {
        "execution": {
          "iopub.status.busy": "2024-03-13T09:06:44.247947Z",
          "iopub.execute_input": "2024-03-13T09:06:44.248212Z",
          "iopub.status.idle": "2024-03-13T09:06:44.259851Z",
          "shell.execute_reply.started": "2024-03-13T09:06:44.248188Z",
          "shell.execute_reply": "2024-03-13T09:06:44.258501Z"
        },
        "trusted": true,
        "id": "6aKSt9G-Nhs1"
      },
      "execution_count": null,
      "outputs": []
    },
    {
      "cell_type": "code",
      "source": [
        "# Solving a few rosalind problems\n",
        "#Testing the transcription code\n",
        "dna_string_1 = \"GATGGAACTTGACTACGTAAATT\"\n",
        "string_rna_1 = transcription(dna_string_1)\n",
        "print(colored(string_rna_1))\n",
        "\n",
        "#Rosalind problem 2\n",
        "dna_string_2 = \"CCAGACGTGTCAGTGAGATAGCGGCTTTGGGGCATTCCCCGAGTAAATCAATTTCTGACGAAGAAAAACACGAGGCTTCGTGAGCAGTAGCGGCAACCTCACGTCGTTTGTGCGTCTTAGAGTATCGGCCGAAGAAAAGGGGACCGAGCGATCATAGGGCCCGGAGAATAACAGTAAGAATAAATACACCAACTCAAGGTTTACCCGTACGCAATACATTCATTTTTCCCACCGTGTTTAATGTGCGTCTGTAGATAATAACATTGTTCCTCCTCAGGAAGACGTGCGGCTAACTGCGTGTTGGCGCCTTAAATGAGCAGGAAGACTGACCAAGCATATGAGGCAGGATCCGGATTACGGACTTTCTTGACCTGGATCGCGAGTCTTTGAGGAAACTGTACTTAACAGTACGGACGTATAGGTGTACTCAATCACACGGCGAGCAAAACACCGCATGTTGCAACATTCGCCTGAGAGTGGCAGTCGGTTGCCGCCCAACGTGTCCGCTAAGAATGGCCTTGGCGGCGGTATGCACGTAATCACCCCTATCAGACTAGTTCACAGGACTTAGGAAAGTTGTTGTGATCAGCGAGTTGAAGGGAAGCATTAACAGTTTGCGCCTCAGGCACCACTGCTGTTGGTGGGTGAGGTTCCACCTCTATTGCCACCAACGGTATGGTACATGATCAAGCCGGCAAGGCCCACAACTTCTATCTACTAAGCCACAGCCTCGTTAGTATACCCCGGTCGGCCTGTTCATCTTGAGGGGCTCCTCGTCCTCAATAAAGGCCGTCTAAACATATTAGACCCATTGGTAACGATATTTATTAGTCGGGCCTGTTGCACTCGCCAAGACTACAGGATCATACTCCATACGTTTCAAACCTTAGCCGGTCTTCTATTTCTCACTCTCCCG\"\n",
        "string_rna_2 = transcription(dna_string_2)\n",
        "print(colored(string_rna_2))"
      ],
      "metadata": {
        "execution": {
          "iopub.status.busy": "2024-03-13T09:17:00.415236Z",
          "iopub.execute_input": "2024-03-13T09:17:00.415594Z",
          "iopub.status.idle": "2024-03-13T09:17:00.421811Z",
          "shell.execute_reply.started": "2024-03-13T09:17:00.415566Z",
          "shell.execute_reply": "2024-03-13T09:17:00.420679Z"
        },
        "trusted": true,
        "id": "poHFZdPENhs2"
      },
      "execution_count": null,
      "outputs": []
    },
    {
      "cell_type": "markdown",
      "source": [
        "> **Reverse complement of DNA seq**\n",
        "\n",
        "This code defines a dictionary **DNA_Reversecomplementseq** mapping each nucleotide to its complementary nucleotide (A to T, T to A, G to C, and C to G). It then defines a function **reversecomplement(sequence)** that takes a DNA sequence as input and returns its reverse complement.\n",
        "\n",
        "The code generates a random DNA sequence **random_dna** and then uses the reversecomplement() function to find its reverse complement. Finally, it prints the reverse complement of the random DNA sequence."
      ],
      "metadata": {
        "id": "xMqxvrtSNhs2"
      }
    },
    {
      "cell_type": "code",
      "source": [
        "#Determining reverse complementary sequence of dna string\n",
        "DNA_Reversecomplementseq = {'A': 'T', 'T': 'A', 'G': 'C', 'C': 'G'}\n",
        "\n",
        "def reversecomplement(sequence):\n",
        "    return ''.join([DNA_Reversecomplementseq[nuc] for nuc in sequence])[::-1]\n",
        "random_dna = \"CGGGGTGACCCTTGTAGCGGACCCCGACGCGGCGGCAACCCCCCGCTTCTGCCTCTGGGGGAGGAAAGCGTCGGC\"\n",
        "new_reverse_dna_string = reversecomplement(random_dna)\n",
        "print(colored(new_reverse_dna_string))"
      ],
      "metadata": {
        "execution": {
          "iopub.status.busy": "2024-03-13T09:06:44.263121Z",
          "iopub.execute_input": "2024-03-13T09:06:44.263538Z",
          "iopub.status.idle": "2024-03-13T09:06:44.272722Z",
          "shell.execute_reply.started": "2024-03-13T09:06:44.263502Z",
          "shell.execute_reply": "2024-03-13T09:06:44.271682Z"
        },
        "trusted": true,
        "id": "yr_Bt5_jNhs2"
      },
      "execution_count": null,
      "outputs": []
    },
    {
      "cell_type": "code",
      "source": [
        "#Solving for rosalind problem 1 for Complementing a Strand of DNA\n",
        "\n",
        "dna_1 = \"AAAACCCGGT\"\n",
        "new_reverse_dna_string = reversecomplement(dna_1)\n",
        "print(colored(new_reverse_dna_string))\n",
        "\n",
        "#problem 2\n",
        "dna_2 = \"TCCCAGTTACGTGACCGGACTGTACAGTTACTTGGCCCTTTTTGAATGCTGGCCGTCCTTGAGAAGTTGATGCATCTGTCTCCTATGGGGATACGTAGAACGGGTGCATTGGCGCCCCCGTATATCTCGATTATGACTGTCATGTCGCGACCACCTTGTATCTATACCGAAGGAACTGACCTGTTGGGCCGTTATACACGTCAAGCCACGTGATGTAATTGAGATTCAAACAAATTAAAATTATGGTAGTAGTTGACCTGTGCGAAGCAGCCTGGTAATGAGTCTGCAGGTTGCTGCCCTGACCGTTAGTGATAGGGCGCTCAGTGCCACCGAAATTTCTCCCTACAACCGCAACACTGAGTCAGACATTATCGACTACAGCCAGATGCGAAAAAGCGAGAGATAAGGAAAGGACTCCATGGTTTCGGTACCTCCGTGGTTCACTGGTTTCTACCGTGTAGTCGTATTAAGTATACCTATACGAGGCCTTTACGAACCTGAACCGTTGACGGGCGGCTGTGCCCATCCCAAATCGTCTACGGATGAACCTACGCCCCACGGAGATCCTTCCGCCGCTGCTAACTCTTGAAGCATCACAACGGAGACGGTGATCGCAAAACGCGTAACCCTTGAGGGCCCCTCAACTATGTGAGCGACACTTGAACATAAGCATCTTGGGCAGGAGTATCGCCTTCATAGAGTGTATGGCATGACGAAACCTACGTGGCGTAGCATTCTCCCGTGATGGCTAAATTCACAATCTAGAGCTTGTGAGTTTACCCGAATTTTCGACTAGACTATAAGGATGTTCAATGTCGTCAATGTCTTGGATATATCGCACATGGGTGGATTGTTTGTATAGTTCACTAGGAGATTTTGTCCGGGTCATTACATCGAACTATAAATGCTCAAAG\"\n",
        "new_reverse_dna_string = reversecomplement(dna_2)\n",
        "print(colored(new_reverse_dna_string))"
      ],
      "metadata": {
        "execution": {
          "iopub.status.busy": "2024-03-13T09:22:35.018794Z",
          "iopub.execute_input": "2024-03-13T09:22:35.019118Z",
          "iopub.status.idle": "2024-03-13T09:22:35.025631Z",
          "shell.execute_reply.started": "2024-03-13T09:22:35.019092Z",
          "shell.execute_reply": "2024-03-13T09:22:35.024442Z"
        },
        "trusted": true,
        "id": "IuDqnUppNhs3"
      },
      "execution_count": null,
      "outputs": []
    },
    {
      "cell_type": "markdown",
      "source": [
        "> **Base-pairing of complementary seq**\n",
        "\n",
        "This code defines a **function reverse_complement** that generates the reverse complement of a given DNA string. It then uses this function to find the **reverse complement** of **dna_string** and prints it along with the original string in a format that illustrates the **base pairing sequence**."
      ],
      "metadata": {
        "id": "Tk5C9S_JNhs3"
      }
    },
    {
      "cell_type": "code",
      "source": [
        "#Illustrating reverse complement in base pairing sequence manner\n",
        "def reverse_complement(dna_string):\n",
        "    complement = {'A': 'T', 'C': 'G', 'G': 'C', 'T': 'A'}\n",
        "    return ''.join(complement[base] for base in reversed(dna_string))\n",
        "\n",
        "dna_string = \"CGGGGTGACCCTTGTAGCGGACCCCGACGCGGCGGCAACCCCCCGCTTCTGCCTCTGGGGGAGGAAAGCGTCGGC\"\n",
        "new_reverse_dna_string = reverse_complement(dna_string)\n",
        "\n",
        "print(colored(f\"Reverse complement + dna seq string:\\n5' {new_reverse_dna_string} 3'\"))\n",
        "print(\"\".join([' ' for c in range(len(new_reverse_dna_string))]))\n",
        "print(colored(f\"3' {dna_string[::-1]} 5'\\n\"))"
      ],
      "metadata": {
        "execution": {
          "iopub.status.busy": "2024-03-13T09:06:44.273907Z",
          "iopub.execute_input": "2024-03-13T09:06:44.274176Z",
          "iopub.status.idle": "2024-03-13T09:06:44.284748Z",
          "shell.execute_reply.started": "2024-03-13T09:06:44.274149Z",
          "shell.execute_reply": "2024-03-13T09:06:44.283184Z"
        },
        "trusted": true,
        "id": "7XALf1CvNhs4"
      },
      "execution_count": null,
      "outputs": []
    },
    {
      "cell_type": "code",
      "source": [
        "Nuc_seq = ['A', 'C', 'G', 'T']\n",
        "complement = {'A': 'T', 'C': 'G', 'G': 'C', 'T': 'A'}"
      ],
      "metadata": {
        "execution": {
          "iopub.status.busy": "2024-03-13T09:06:44.286771Z",
          "iopub.execute_input": "2024-03-13T09:06:44.287571Z",
          "iopub.status.idle": "2024-03-13T09:06:44.297619Z",
          "shell.execute_reply.started": "2024-03-13T09:06:44.287525Z",
          "shell.execute_reply": "2024-03-13T09:06:44.29653Z"
        },
        "trusted": true,
        "id": "tlnl34f9Nhs4"
      },
      "execution_count": null,
      "outputs": []
    },
    {
      "cell_type": "code",
      "source": [],
      "metadata": {
        "trusted": true,
        "id": "RtSdyIiSNhs4"
      },
      "execution_count": null,
      "outputs": []
    }
  ]
}